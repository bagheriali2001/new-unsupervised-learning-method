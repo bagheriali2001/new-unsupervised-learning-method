{
 "cells": [
  {
   "cell_type": "markdown",
   "metadata": {},
   "source": [
    "This is used to process the result of each run and create a summary of the results."
   ]
  },
  {
   "cell_type": "code",
   "execution_count": null,
   "metadata": {},
   "outputs": [],
   "source": [
    "import pandas as pd\n",
    "import os"
   ]
  },
  {
   "cell_type": "code",
   "execution_count": null,
   "metadata": {},
   "outputs": [],
   "source": [
    "# list files in mcc_results directory\n",
    "file_names = os.listdir('./')\n",
    "file_names = [file_name for file_name in file_names if file_name.startswith('MCC-results')]\n",
    "\n",
    "results = pd.DataFrame()\n",
    "\n",
    "for file_name in file_names:\n",
    "    file_results = pd.read_csv('mcc_results/' + file_name)\n",
    "    file_results['test_time'] = file_name[12:-4]\n",
    "    results = pd.concat([results, file_results])\n",
    "    results.sort_values(by=['test_time', 'population_size', 'max_generation'], inplace=True)\n",
    "    results = results.reset_index(drop=True)\n",
    "results.to_csv('MCC_Results.csv', index=False)\n",
    "\n",
    "# filter the 10 results with the highest accuracy\n",
    "filtered_results = results.copy()\n",
    "filtered_results = filtered_results.sort_values(by=['accuracy'], ascending=False).head(10)\n",
    "filtered_results = filtered_results.reset_index(drop=True)\n",
    "\n",
    "filtered_results\n"
   ]
  },
  {
   "cell_type": "code",
   "execution_count": null,
   "metadata": {},
   "outputs": [],
   "source": [
    "# list files in mi_results directory\n",
    "file_names = os.listdir('./')\n",
    "file_names = [file_name for file_name in file_names if file_name.startswith('MI-results')]\n",
    "\n",
    "results = pd.DataFrame()\n",
    "\n",
    "for file_name in file_names:\n",
    "    file_results = pd.read_csv('mi_results/' + file_name)\n",
    "    file_results['test_time'] = file_name[11:-4]\n",
    "    results = pd.concat([results, file_results])\n",
    "    results.sort_values(by=['test_time', 'population_size', 'max_generation'], inplace=True)\n",
    "    results = results.reset_index(drop=True)\n",
    "results.to_csv('mi_results/MI_Results.csv', index=False)\n",
    "\n",
    "# filter the 10 results with the highest accuracy\n",
    "filtered_results = results.copy()\n",
    "filtered_results = filtered_results.sort_values(by=['accuracy'], ascending=False).head(10)\n",
    "filtered_results = filtered_results.reset_index(drop=True)\n",
    "\n",
    "filtered_results\n"
   ]
  }
 ],
 "metadata": {
  "kernelspec": {
   "display_name": "base",
   "language": "python",
   "name": "python3"
  },
  "language_info": {
   "codemirror_mode": {
    "name": "ipython",
    "version": 3
   },
   "file_extension": ".py",
   "mimetype": "text/x-python",
   "name": "python",
   "nbconvert_exporter": "python",
   "pygments_lexer": "ipython3",
   "version": "3.10.9"
  }
 },
 "nbformat": 4,
 "nbformat_minor": 2
}
