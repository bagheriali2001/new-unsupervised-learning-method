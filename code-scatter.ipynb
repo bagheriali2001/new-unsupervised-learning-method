{
 "cells": [
  {
   "cell_type": "code",
   "execution_count": null,
   "metadata": {},
   "outputs": [],
   "source": [
    "##################################################\n",
    "########## Loading Necessary Libraries  ##########\n",
    "##################################################\n",
    "\n",
    "import pandas as pd\n",
    "import numpy as np\n",
    "import matplotlib.pyplot as plt\n",
    "import seaborn as sns\n",
    "%matplotlib inline\n",
    "\n",
    "from numpy.linalg import inv\n",
    "import time\n",
    "import os"
   ]
  },
  {
   "cell_type": "code",
   "execution_count": null,
   "metadata": {},
   "outputs": [],
   "source": [
    "files_list = os.listdir('chunks')\n",
    "data_df = pd.DataFrame()\n",
    "files_list.sort()\n",
    "for file in files_list:\n",
    "    print(\"Reading chunks_result/\" + file + \" ...     \", end=\"\\r\")\n",
    "    data_df = pd.concat([data_df, pd.read_csv('chunks_result/' + file)], axis=0)\n",
    "    data_df = data_df.reset_index(drop=True)\n",
    "\n",
    "data_df.shape"
   ]
  },
  {
   "cell_type": "code",
   "execution_count": null,
   "metadata": {},
   "outputs": [],
   "source": [
    "##################################################\n",
    "############ Processing results data #############\n",
    "##################################################\n",
    "\n",
    "# find max accuracy, with its corresponding MCC Score and MI Score\n",
    "max_accuracy_index = data_df['accuracy'].idxmax()\n",
    "max_mcc_index = data_df['mcc'].idxmax()\n",
    "max_mi_score_index = data_df['total_mi'].idxmax()\n",
    "total_individuals = len(data_df)\n",
    "\n",
    "print('Total Individuals: ', total_individuals)\n",
    "print('Max Accuracy: ', data_df['accuracy'][max_accuracy_index], ' MCC Score: ', data_df['mcc'][max_accuracy_index], ' MI Score: ', data_df['total_mi'][max_accuracy_index])\n",
    "print('Max MCC Score: ', data_df['mcc'][max_mcc_index], ' Accuracy: ', data_df['accuracy'][max_mcc_index])\n",
    "print('Max MI Score: ', data_df['total_mi'][max_mi_score_index], ' Accuracy: ', data_df['accuracy'][max_mi_score_index])"
   ]
  },
  {
   "cell_type": "code",
   "execution_count": null,
   "metadata": {},
   "outputs": [],
   "source": [
    "##################################################\n",
    "########### Plotting all_individuals #############\n",
    "##################################################\n",
    "\n",
    "fig, axs = plt.subplots(1, 2, figsize=(25, 10))\n",
    "\n",
    "# Plotting the accuracy vs MCC Score\n",
    "axs[0].scatter(data_df['mcc'], data_df['accuracy'], s=1)\n",
    "z = np.polyfit(data_df['mcc'], data_df['accuracy'], 1)\n",
    "p = np.poly1d(z)\n",
    "axs[0].plot(data_df['mcc'], p(data_df['mcc']), \"r--\")\n",
    "axs[0].set_xlabel('MCC Score')\n",
    "axs[0].set_ylabel('Accuracy')\n",
    "axs[0].set_title('Accuracy vs MCC Score (Total Individuals: ' + str(total_individuals) + ')')\n",
    "\n",
    "# Plotting the accuracy vs MI Score\n",
    "axs[1].scatter(data_df['total_mi'], data_df['accuracy'], s=1)\n",
    "z = np.polyfit(data_df['total_mi'], data_df['accuracy'], 1)\n",
    "p = np.poly1d(z)\n",
    "axs[1].plot(data_df['total_mi'], p(data_df['total_mi']), \"r--\")\n",
    "axs[1].set_xlabel('MI Score')\n",
    "axs[1].set_ylabel('Accuracy')\n",
    "axs[1].set_title('Accuracy vs MI Score (Total Individuals: ' + str(total_individuals) + ')')\n",
    "\n"
   ]
  }
 ],
 "metadata": {
  "kernelspec": {
   "display_name": "Python 3 (ipykernel)",
   "language": "python",
   "name": "python3"
  },
  "language_info": {
   "codemirror_mode": {
    "name": "ipython",
    "version": 3
   },
   "file_extension": ".py",
   "mimetype": "text/x-python",
   "name": "python",
   "nbconvert_exporter": "python",
   "pygments_lexer": "ipython3",
   "version": "3.10.13"
  },
  "orig_nbformat": 4,
  "vscode": {
   "interpreter": {
    "hash": "dbb0e3c0e3a3a55408ecfeb6fb126d03150295bc6f8dc609cb871f186c1d85b1"
   }
  }
 },
 "nbformat": 4,
 "nbformat_minor": 2
}
