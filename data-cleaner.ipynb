{
 "cells": [
  {
   "cell_type": "markdown",
   "metadata": {},
   "source": [
    "This code is used to trimmed and chunk the data into smaller pieces."
   ]
  },
  {
   "cell_type": "code",
   "execution_count": null,
   "metadata": {},
   "outputs": [],
   "source": [
    "import os\n",
    "import pandas as pd"
   ]
  },
  {
   "cell_type": "code",
   "execution_count": null,
   "metadata": {},
   "outputs": [],
   "source": [
    "def retrun_individuals(file):\n",
    "    data = pd.read_csv(file)\n",
    "    return data[[\"individual\"]]\n",
    "\n",
    "def convert_naming_scheme(data):\n",
    "    # if the value of an index of the list is M then change it to 1, else 2\n",
    "    data = [1 if x == \"\"M\"\" else 2 for x in data]\n",
    "    return data\n",
    "\n",
    "def convert_str_to_list(data):\n",
    "    # Remove brackets and split by spaces\n",
    "    data = data.replace(\"[\", \"\").replace(\"]\", \"\")\n",
    "    data_list = data.split()\n",
    "    \n",
    "    if (data_list[0] == \"\"M\"\" or data_list[0] == \"\"B\"\"):\n",
    "        data_list = convert_naming_scheme(data_list)\n",
    "\n",
    "    # Convert string to int\n",
    "    data_list = [int(i) for i in data_list]\n",
    "\n",
    "    return data_list\n",
    "\n",
    "def read_and_process_file(file):\n",
    "    retruned_value = retrun_individuals(file)\n",
    "    retruned_value[\"individual\"] = retruned_value[\"individual\"].apply(convert_str_to_list)\n",
    "    return retruned_value\n",
    "\n",
    "# list all the files in population-storage folder\n",
    "files = os.listdir(\"./\")\n",
    "# sort the files in ascending order\n",
    "files.sort()\n",
    "# sort the files that start wth all_individuals\n",
    "sub_list_of_files = [file for file in files if file.endswith(\".csv\")]\n",
    "\n",
    "if not os.path.exists(\"non-trimmed\"):\n",
    "    os.makedirs(\"non-trimmed\")\n",
    "\n",
    "# read the files and process them\n",
    "for file in sub_list_of_files:\n",
    "        print(\"Reading \", file, \" ...\")\n",
    "        data = read_and_process_file(file)\n",
    "        print(\"Writing \", file, \" ...\")\n",
    "        data.to_csv(\"non-trimmed/\" + file, index=False)\n",
    "        print(\"Done \", file, \" ...\")"
   ]
  },
  {
   "cell_type": "code",
   "execution_count": null,
   "metadata": {},
   "outputs": [],
   "source": [
    "def trim_individuals(data):\n",
    "    return data.replace(\", \", \" \")\n",
    "\n",
    "# list all the files in non-trimmed folder\n",
    "files = os.listdir(\"non-trimmed\")\n",
    "# sort the files in ascending order\n",
    "files.sort()\n",
    "# sort the files that start wth all_individuals\n",
    "sub_list_of_files = [file for file in files if file.endswith(\".csv\")]\n",
    "\n",
    "if not os.path.exists(\"trimmed\"):\n",
    "    os.makedirs(\"trimmed\")\n",
    "\n",
    "for file in sub_list_of_files:\n",
    "    print(\"Reading \", \"non-trimmed/\" + file, \" ...\")\n",
    "    data = pd.read_csv(\"non-trimmed/\" + file)\n",
    "    print(\"Trimming \", \"non-trimmed/\" + file, \" ...\")\n",
    "    data[\"individual\"] = data[\"individual\"].apply(trim_individuals)\n",
    "    print(\"Writing \", \"non-trimmed/\" + file, \" ...\")\n",
    "    data.to_csv(\"trimmed/\" + file, index=False)\n",
    "    print(\"Done \", \"trimmed/\" + file, \" ...\")"
   ]
  },
  {
   "cell_type": "code",
   "execution_count": null,
   "metadata": {},
   "outputs": [],
   "source": [
    "# list all the files in population-storage folder\n",
    "files = os.listdir(\"trimmed\")\n",
    "# sort the files in ascending order\n",
    "files.sort()\n",
    "# sort the files that start wth all_individuals\n",
    "sub_list_of_files = [file for file in files if file.endswith(\".csv\")]\n",
    "\n",
    "data = pd.DataFrame(columns=[\"individual\"])\n",
    "\n",
    "for file in sub_list_of_files:\n",
    "    print(\"Reading \", \"trimmed/\" + file, \" ...\")\n",
    "    data = pd.concat([data, pd.read_csv(\"trimmed/\" + file)])\n",
    "    print(\"Done \", \"trimmed/\" + file, \" ...\")\n",
    "\n",
    "print(\"Resetting Index ...\")\n",
    "data.reset_index(drop=True)\n",
    "print(\"Dropping Duplicates ...\")\n",
    "data.drop_duplicates()\n",
    "print(\"Data shape: \", data.shape)\n",
    "rows = data.shape[0]\n",
    "print(\"Rows: \", rows)\n",
    "chunk_count = int(rows / 100000) + 1\n",
    "print(\"Chunk count: \", chunk_count)\n",
    "\n",
    "if not os.path.exists(\"chunks\"):\n",
    "    os.makedirs(\"chunks\")\n",
    "\n",
    "for i in range(chunk_count):\n",
    "    print(\"Writing chunk \", i, \" From: \", i*100000, \" , To: \", (i+1)*100000, \" ...\")\n",
    "    data.iloc[i*100000:(i+1)*100000].to_csv(\"chunks/data_chunked-1_\"+str(i)+\".csv\", index=False)"
   ]
  }
 ],
 "metadata": {
  "kernelspec": {
   "display_name": "base",
   "language": "python",
   "name": "python3"
  },
  "language_info": {
   "codemirror_mode": {
    "name": "ipython",
    "version": 3
   },
   "file_extension": ".py",
   "mimetype": "text/x-python",
   "name": "python",
   "nbconvert_exporter": "python",
   "pygments_lexer": "ipython3",
   "version": "3.10.13"
  }
 },
 "nbformat": 4,
 "nbformat_minor": 2
}
